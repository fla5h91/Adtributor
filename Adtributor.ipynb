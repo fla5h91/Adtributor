{
 "cells": [
  {
   "cell_type": "code",
   "execution_count": 1,
   "metadata": {},
   "outputs": [],
   "source": [
    "import numpy as np"
   ]
  },
  {
   "cell_type": "code",
   "execution_count": 2,
   "metadata": {},
   "outputs": [],
   "source": [
    "revenue = np.array([[\n",
    "    [50,10,0],\n",
    "    [0,0,0],\n",
    "    [40,70,0],\n",
    "    [10,10,0]\n",
    "]])"
   ]
  },
  {
   "cell_type": "code",
   "execution_count": 3,
   "metadata": {},
   "outputs": [],
   "source": [
    "clicks = np.array([[\n",
    "    [100,20,0],\n",
    "    [200,360,0],\n",
    "    [100,100,0],\n",
    "    [100,100,0]\n",
    "]])"
   ]
  },
  {
   "cell_type": "code",
   "execution_count": 4,
   "metadata": {},
   "outputs": [],
   "source": [
    "cost_per_click = np.array([[\n",
    "    [0.5,0.5,0],\n",
    "    [0,0,0],\n",
    "    [0.4,0.7,0],\n",
    "    [0.1,0.1,0]\n",
    "]])"
   ]
  },
  {
   "cell_type": "code",
   "execution_count": 5,
   "metadata": {},
   "outputs": [],
   "source": [
    "def k_l_divergence(p,q):\n",
    "    return p * np.log2(p / q)"
   ]
  },
  {
   "cell_type": "code",
   "execution_count": 6,
   "metadata": {},
   "outputs": [],
   "source": [
    "def j_s_divergence(p,q):\n",
    "    return (p*np.log2((2*p)/(p+q)) + q*np.log2((2*q)/(p+q))) / 2"
   ]
  },
  {
   "cell_type": "code",
   "execution_count": 31,
   "metadata": {},
   "outputs": [],
   "source": [
    "def root_cause_identification(datasets,Teep=0.1,Tep=0.6):\n",
    "    # m: number of measures;i: number of Dimensions;\n",
    "    # j: number of values in Dim i\n",
    "    m,i,j,k = datasets.shape\n",
    "    F,A = datasets[:,:,0,0], datasets[:,:,0,1]\n",
    "    P = datasets[:,:,1:,0] / F[:, np.newaxis]\n",
    "    Q = datasets[:,:,1:,1] / A[:, np.newaxis]\n",
    "    S = np.nan_to_num(j_s_divergence(P,Q))\n",
    "    S_sort = np.argsort(S,axis=2)[:,:,::-1]\n",
    "    ExplanatorySet = []\n",
    "    for x in range(m):\n",
    "        for y in range(i):\n",
    "            Candidate,Explains,Surprise = {'Add':[],'Surprise':0},0,0\n",
    "            for z in S_sort[x,y,:]:\n",
    "                if np.abs(datasets[x,y,z,2]) > Teep:\n",
    "                    Candidate['Add'].append(z)\n",
    "                    Surprise += S[x,y,z]\n",
    "                    Explains += datasets[x,y,z,2]\n",
    "                if Explains > Tep:\n",
    "                    Candidate['Surprise'] = Surprise\n",
    "                    ExplanatorySet.append(Candidate)\n",
    "                    break\n",
    "    return ExplanatorySet"
   ]
  },
  {
   "cell_type": "code",
   "execution_count": 8,
   "metadata": {},
   "outputs": [],
   "source": [
    "dataset_origin = np.array([\n",
    "    revenue,\n",
    "    clicks,\n",
    "    cost_per_click\n",
    "])"
   ]
  },
  {
   "cell_type": "code",
   "execution_count": 9,
   "metadata": {},
   "outputs": [],
   "source": [
    "dataset_agg = np.insert(dataset_origin,0,np.sum(dataset_origin,axis=2),axis=2)\n",
    "dataset_agg[:,:,:,2] = dataset_agg[:,:,:,1] - dataset_agg[:,:,:,0]"
   ]
  },
  {
   "cell_type": "code",
   "execution_count": 10,
   "metadata": {},
   "outputs": [],
   "source": [
    "sum_arr = np.sum(dataset_agg[:,:,0,2],axis=1).repeat(4).reshape(3,1,4)\n",
    "dataset_agg[:,:,1:,2] = np.divide(dataset_agg[:,:,1:,2],sum_arr)\n",
    "dataset_agg[:,:,0,2] = dataset_agg[:,:,0,2] / dataset_agg[:,:,0,0]"
   ]
  },
  {
   "cell_type": "code",
   "execution_count": 11,
   "metadata": {},
   "outputs": [
    {
     "name": "stdout",
     "output_type": "stream",
     "text": [
      "[[[[ 1.0e+02  9.0e+01 -1.0e-01]\n",
      "   [ 5.0e+01  1.0e+01  4.0e+00]\n",
      "   [ 0.0e+00  0.0e+00 -0.0e+00]\n",
      "   [ 4.0e+01  7.0e+01 -3.0e+00]\n",
      "   [ 1.0e+01  1.0e+01 -0.0e+00]]]\n",
      "\n",
      "\n",
      " [[[ 5.0e+02  5.8e+02  1.6e-01]\n",
      "   [ 1.0e+02  2.0e+01 -1.0e+00]\n",
      "   [ 2.0e+02  3.6e+02  2.0e+00]\n",
      "   [ 1.0e+02  1.0e+02  0.0e+00]\n",
      "   [ 1.0e+02  1.0e+02  0.0e+00]]]\n",
      "\n",
      "\n",
      " [[[ 1.0e+00  1.3e+00  3.0e-01]\n",
      "   [ 5.0e-01  5.0e-01  0.0e+00]\n",
      "   [ 0.0e+00  0.0e+00  0.0e+00]\n",
      "   [ 4.0e-01  7.0e-01  1.0e+00]\n",
      "   [ 1.0e-01  1.0e-01  0.0e+00]]]]\n"
     ]
    }
   ],
   "source": [
    "print(dataset_agg)  # data in dataset_agg[2] is incorrect, Cauze it's a dirived measure of privious dimensions."
   ]
  },
  {
   "cell_type": "code",
   "execution_count": 32,
   "metadata": {},
   "outputs": [
    {
     "name": "stderr",
     "output_type": "stream",
     "text": [
      "/Users/kaichenzhu/anaconda3/lib/python3.6/site-packages/ipykernel_launcher.py:2: RuntimeWarning: invalid value encountered in true_divide\n",
      "  \n"
     ]
    }
   ],
   "source": [
    "root_cause = root_cause_identification(dataset_agg[:-1])"
   ]
  },
  {
   "cell_type": "code",
   "execution_count": 33,
   "metadata": {},
   "outputs": [
    {
     "name": "stdout",
     "output_type": "stream",
     "text": [
      "[[[0.09654381 0.         0.04448635 0.00021102]]\n",
      "\n",
      " [[0.04661156 0.01734682 0.00073768 0.00073768]]]\n"
     ]
    }
   ],
   "source": [
    "print(root_cause)"
   ]
  },
  {
   "cell_type": "code",
   "execution_count": null,
   "metadata": {},
   "outputs": [],
   "source": []
  }
 ],
 "metadata": {
  "kernelspec": {
   "display_name": "Python 3",
   "language": "python",
   "name": "python3"
  },
  "language_info": {
   "codemirror_mode": {
    "name": "ipython",
    "version": 3
   },
   "file_extension": ".py",
   "mimetype": "text/x-python",
   "name": "python",
   "nbconvert_exporter": "python",
   "pygments_lexer": "ipython3",
   "version": "3.6.5"
  }
 },
 "nbformat": 4,
 "nbformat_minor": 2
}
